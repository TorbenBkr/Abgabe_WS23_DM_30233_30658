{
 "cells": [
  {
   "cell_type": "markdown",
   "metadata": {},
   "source": [
    "<h1>Inhaltsverzeichnis</h1>\n",
    "\n",
    "<ol>\n",
    "    <li><a href=\"#einleitung\">Einleitung</a>\n",
    "    </li>\n",
    "    <li><a href=\"#eigenständig\">Eigenständigkeitserklärung</a>\n",
    "    </li>\n",
    "    <li><a href=\"#genutzter-datensatz\">Genutzter Datensatz</a>\n",
    "        <ul>\n",
    "            <li><a href='#datensatz-anpassung'>Datensatz Anpassung</a></li>\n",
    "            <li><a href=\"#was-bilden-die-daten-ab\">Was bilden die Daten ab</a></li>\n",
    "            <li><a href=\"#aufbau-des-datensatzes\">Aufbau des Datensatzes</a></li> \n",
    "                <ul>\n",
    "                    <li><a href=\"#variablen\">Variablen</a></li>\n",
    "                </ul>   \n",
    "        </ul>\n",
    "    </li>\n",
    "    <li><a href=\"#analysen\">Analysen</a>\n",
    "        <ul>\n",
    "            <li><a href=\"#ziel-der-analysen\">Ziel der Analysen</a></li>\n",
    "            <li><a href=\"#kmeans\">KMeans</a></li>\n",
    "            <li><a href=\"#hierarchisch\">Hierarchisch</a></li>\n",
    "        </ul>\n",
    "    </li>\n",
    "    <li><a href=\"#auswertung\">Auswertung</a>\n",
    "</ol>"
   ]
  },
  {
   "cell_type": "markdown",
   "metadata": {},
   "source": [
    "<h1 id=einleitung>Einleitung</h1>\n",
    "\n",
    "Im Rahmen des Moduls Datamining and Machine Learning werden wir einen, von uns ausgewählten, Datensatz mit der Clustering Methode statischtisch analysieren und auswerten. Dabei wählen wir geeigneten Methoden des Clustering-Algorithmen an, um Muster und Strukturen in den Daten zu identifizieren. Durch diese statistische Analyse erhalten wir Einblicke in die zugrunde liegenden Zusammenhänge und können die Daten entsprechend interpretieren. Die Ergebnisse unserer Auswertung ermöglichen es uns, Erkenntnisse zu gewinnen und möglicherweise Trends oder Gruppierungen in den Daten zu erkennen, die für weitere Entscheidungen oder Analysen relevant sein könnten."
   ]
  },
  {
   "cell_type": "markdown",
   "metadata": {},
   "source": [
    "<h1 id=eigenständig>Eigenständigkeitserklärung</h1>\n",
    "\n",
    "Hiermit erkläre/n ich/wir, dass ich/wir die vorliegende Arbeit eigenständig und ohne fremde Hilfe angefertigt habe/n. Textpassagen, die wörtlich oder dem Sinn nach auf Publikationen oder Vorträgen anderer Autoren beruhen, sind als solche kenntlich gemacht."
   ]
  },
  {
   "cell_type": "markdown",
   "metadata": {},
   "source": [
    "<h1 id=genutzter-datensatz>Genutzter Datensatz</h1>"
   ]
  },
  {
   "cell_type": "markdown",
   "metadata": {},
   "source": [
    "<h2 id=datensatz-anpassung>Datensatz Anpassung</h2>"
   ]
  },
  {
   "cell_type": "code",
   "execution_count": null,
   "metadata": {},
   "outputs": [],
   "source": [
    "import os\n",
    "import random\n",
    "import csv\n",
    "\n",
    "# Specify the path to the CSV files\n",
    "input_file = './tripadvisor_review.csv'\n",
    "output_file = './output.csv'\n",
    "# Read the input CSV file\n",
    "with open(input_file, 'r') as file:\n",
    "    reader = csv.reader(file)\n",
    "    data = list(reader)\n",
    "# Remove the first column from the data (it contains the user IDs)\n",
    "data = [row[1:] for row in data]\n",
    "# Keep the first row in the data for the header\n",
    "header = data[0]\n",
    "# Filter out possible duplicates from the data\n",
    "input_file = list(set(tuple(row) for row in input_file))\n",
    "# Calculate the number of rows to keep (90% of the total rows)\n",
    "num_rows = int(len(data) * 0.9)\n",
    "# Select random num_rows rows from the data\n",
    "selected_data = random.sample(data[1:], num_rows)\n",
    "# Add the header back to the selected data\n",
    "selected_data.insert(0, header)\n",
    "# Write the selected data to the output CSV file\n",
    "with open(output_file, 'w', newline='') as file:\n",
    "    writer = csv.writer(file)\n",
    "    writer.writerows(selected_data)"
   ]
  },
  {
   "cell_type": "markdown",
   "metadata": {},
   "source": [
    "<h2 id=was-bilden-die-daten-ab>Was bilden die Daten ab</h2>\n",
    "Die Daten bilden das User Feedback zu verschiedenen Angeboten an Ferien Resorts in Asien auf einer Skala von 0 bis 4 ab. Diese werden dann mit der Durchschnittsbewertung des Resorts verglichen.\n",
    "\n",
    "<h2 id=aufbau-des-datensatzes>Aufbau des Datensatzes</h2>\n",
    "\n",
    "<h3 id=variablen>Variablen</h3>\n",
    "\n",
    "Attribute 1 : Unique user id  \n",
    "Attribute 2 : Average user feedback on art galleries  \n",
    "Attribute 3 : Average user feedback on dance clubs  \n",
    "Attribute 4 : Average user feedback on juice bars  \n",
    "Attribute 5 : Average user feedback on restaurants   \n",
    "Attribute 6 : Average user feedback on museums    \n",
    "Attribute 7 : Average user feedback on resorts    \n",
    "Attribute 8 : Average user feedback on parks/picnic spots    \n",
    "Attribute 9 : Average user feedback on beaches   \n",
    "Attribute 10 : Average user feedback on theaters   \n",
    "Attribute 11 : Average user feedback on religious   \n"
   ]
  },
  {
   "cell_type": "markdown",
   "metadata": {},
   "source": [
    "<h1 id=analysen>Analysen</h1>\n",
    "\n",
    "<h2 id=ziel-der-analysen>Ziel der Analysen</h2>\n",
    "\n",
    "Das Ziel der Analysen ist es, die User zu clustern und die Cluster zu analysieren. Dadurch können die Resorts besser auf die Bedürfnisse der User angepasst werden.\n"
   ]
  },
  {
   "cell_type": "markdown",
   "metadata": {},
   "source": [
    "<h2 id=kmeans>KMeans</h2>"
   ]
  },
  {
   "cell_type": "code",
   "execution_count": null,
   "metadata": {},
   "outputs": [],
   "source": [
    "import pandas as pd\n",
    "import matplotlib.pyplot as plt\n",
    "\n",
    "from sklearn.preprocessing import StandardScaler\n",
    "from sklearn.cluster import KMeans"
   ]
  },
  {
   "cell_type": "code",
   "execution_count": null,
   "metadata": {},
   "outputs": [],
   "source": [
    "df = pd.read_csv('./output.csv')\n",
    "df"
   ]
  },
  {
   "cell_type": "code",
   "execution_count": null,
   "metadata": {},
   "outputs": [],
   "source": [
    "df.describe()"
   ]
  },
  {
   "cell_type": "code",
   "execution_count": null,
   "metadata": {},
   "outputs": [],
   "source": [
    "scaler = StandardScaler()\n",
    "\n",
    "df[['Category 1_T','Category 2_T','Category 3_T','Category 4_T','Category 5_T','Category 6_T','Category 7_T','Category 8_T','Category 9_T','Category 10_T'\n",
    "]] = scaler.fit_transform(df[['Category 1','Category 2','Category 3','Category 4','Category 5','Category 6','Category 7','Category 8','Category 9','Category 10'\n",
    "]])\n",
    "df"
   ]
  },
  {
   "cell_type": "code",
   "execution_count": null,
   "metadata": {},
   "outputs": [],
   "source": [
    "def optimise_k_means(data, max_k):\n",
    "    means = []\n",
    "    inertias = []\n",
    "\n",
    "    for k in range(1, max_k):\n",
    "        kmeans = KMeans(n_clusters=k)\n",
    "        kmeans.fit(data)\n",
    "\n",
    "        means.append(k)\n",
    "        inertias.append(kmeans.inertia_)\n",
    "\n",
    "    fig = plt.subplots(figsize=(10, 5))\n",
    "    plt.plot(means, inertias, 'o-')\n",
    "    plt.xlabel('Number of Clusters')\n",
    "    plt.ylabel('Inertia')\n",
    "    plt.grid(True)\n",
    "    plt.show()"
   ]
  },
  {
   "cell_type": "code",
   "execution_count": null,
   "metadata": {},
   "outputs": [],
   "source": [
    "optimise_k_means(df[['Category 1_T','Category 2_T']], 10)"
   ]
  },
  {
   "cell_type": "markdown",
   "metadata": {},
   "source": [
    "kmeans = KMeans(n_clusters=5)\n",
    "kmeans.fit(df[['Category 1_T','Category 2_T']])\n",
    "df['kmeans_5'] = kmeans.labels_\n",
    "df"
   ]
  },
  {
   "cell_type": "code",
   "execution_count": null,
   "metadata": {},
   "outputs": [],
   "source": [
    "plt.scatter(df['Category 1_T'], df['Category 2_T'], c=df['kmeans_5'],)\n",
    "plt.xlabel('Category 1')\n",
    "plt.ylabel('Category 2')\n",
    "plt.show()"
   ]
  },
  {
   "cell_type": "markdown",
   "metadata": {},
   "source": [
    "<h2 id=hierarchisch>Hierarchisch</h2>"
   ]
  },
  {
   "cell_type": "markdown",
   "metadata": {},
   "source": [
    "<h1 id=auswertung>Auswertung</h1>\n"
   ]
  }
 ],
 "metadata": {
  "kernelspec": {
   "display_name": "Python 3",
   "language": "python",
   "name": "python3"
  },
  "language_info": {
   "codemirror_mode": {
    "name": "ipython",
    "version": 3
   },
   "file_extension": ".py",
   "mimetype": "text/x-python",
   "name": "python",
   "nbconvert_exporter": "python",
   "pygments_lexer": "ipython3",
   "version": "3.10.8"
  }
 },
 "nbformat": 4,
 "nbformat_minor": 2
}
