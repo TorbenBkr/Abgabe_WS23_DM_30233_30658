{
 "cells": [
  {
   "cell_type": "markdown",
   "metadata": {},
   "source": [
    "<h1>Inhaltsverzeichnis</h1>\n",
    "\n",
    "<ol>\n",
    "    <li><a href=\"#einleitung\">Einleitung</a>\n",
    "    </li>\n",
    "    <li><a href=\"#genutzter-datensatz\">Genutzter Datensatz</a>\n",
    "        <ul>\n",
    "           <li><a href=\"#was-bilden-die-daten-ab\">Was bilden die Daten ab</a></li>\n",
    "            <li><a href=\"#aufbau-des-datensatzes\">Aufbau des Datensatzes</a></li> \n",
    "                <ul>\n",
    "                    <li><a href=\"#variablen\">Variablen</a></li>\n",
    "                </ul>   \n",
    "        </ul>\n",
    "    </li>\n",
    "    <li><a href=\"#analysen\">Analysen</a>\n",
    "        <ul>\n",
    "            <li><a href=\"#ziel-der-analysen\">Ziel der Analysen</a></li>\n",
    "            <li><a href=\"#kmeans\">KMeans</a></li>\n",
    "            <li><a href=\"#hierarchisch\">Hierarchisch</a></li>\n",
    "        </ul>\n",
    "    </li>\n",
    "    <li><a href=\"#auswertung\">Auswertung</a>\n",
    "</ol>"
   ]
  },
  {
   "cell_type": "markdown",
   "metadata": {},
   "source": [
    "<h1 id=einleitung>Einleitung</h1>\n"
   ]
  },
  {
   "cell_type": "markdown",
   "metadata": {},
   "source": [
    "<h1 id=genutzter-datensatz>Genutzter Datensatz</h1>\n",
    "\n",
    "<h2 id=was-bilden-die-daten-ab>Was bilden die Daten ab</h2>\n",
    "Die Daten bilden das User Feedback zu verschiedenen Angeboten an Ferien Resorts in Asien auf einer Skala von 0 bis 4 ab. Diese werden dann mit der Durchschnittsbewertung des Resorts verglichen.\n",
    "\n",
    "<h2 id=aufbau-des-datensatzes>Aufbau des Datensatzes</h2>\n",
    "\n",
    "<h3 id=variablen>Variablen</h3>\n",
    "\n",
    "Attribute 1 : Unique user id  \n",
    "Attribute 2 : Average user feedback on art galleries  \n",
    "Attribute 3 : Average user feedback on dance clubs  \n",
    "Attribute 4 : Average user feedback on juice bars  \n",
    "Attribute 5 : Average user feedback on restaurants   \n",
    "Attribute 6 : Average user feedback on museums    \n",
    "Attribute 7 : Average user feedback on resorts    \n",
    "Attribute 8 : Average user feedback on parks/picnic spots    \n",
    "Attribute 9 : Average user feedback on beaches   \n",
    "Attribute 10 : Average user feedback on theaters   \n",
    "Attribute 11 : Average user feedback on religious   \n"
   ]
  },
  {
   "cell_type": "markdown",
   "metadata": {},
   "source": [
    "<h1 id=analysen>Analysen</h1>\n",
    "\n",
    "<h2 id=ziel-der-analysen>Ziel der Analysen</h2>\n",
    "\n",
    "Das Ziel der Analysen ist es, die User zu clustern und die Cluster zu analysieren. Dadurch können die Resorts besser auf die Bedürfnisse der User angepasst werden.\n"
   ]
  },
  {
   "cell_type": "markdown",
   "metadata": {},
   "source": [
    "<h2 id=kmeans>KMeans</h2>"
   ]
  },
  {
   "cell_type": "markdown",
   "metadata": {},
   "source": [
    "<h2 id=hierarchisch>Hierarchisch</h2>"
   ]
  },
  {
   "cell_type": "markdown",
   "metadata": {},
   "source": [
    "<h1 id=auswertung>Auswertung</h1>\n"
   ]
  }
 ],
 "metadata": {
  "kernelspec": {
   "display_name": "Python 3",
   "language": "python",
   "name": "python3"
  },
  "language_info": {
   "codemirror_mode": {
    "name": "ipython",
    "version": 3
   },
   "file_extension": ".py",
   "mimetype": "text/x-python",
   "name": "python",
   "nbconvert_exporter": "python",
   "pygments_lexer": "ipython3",
   "version": "3.10.8"
  }
 },
 "nbformat": 4,
 "nbformat_minor": 2
}
