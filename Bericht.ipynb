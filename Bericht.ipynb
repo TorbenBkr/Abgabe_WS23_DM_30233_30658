{
 "cells": [
  {
   "cell_type": "markdown",
   "metadata": {},
   "source": [
    "<h1>Inhaltsverzeichnis</h1>\n",
    "\n",
    "<ol>\n",
    "    <li><a href=\"#einleitung\">Einleitung</a>\n",
    "    </li>\n",
    "    <li><a href=\"#genutzter-datensatz\">Genutzter Datensatz</a>\n",
    "        <ul>\n",
    "           <li><a href=\"#was-bilden-die-daten-ab\">Was bilden die Daten ab</a></li>\n",
    "            <li><a href=\"#aufabu-des-datensatzes\">Aufbau des Datensatzes</a></li> \n",
    "                <ul>\n",
    "                    <li><a href=\"#variablen\">Variablen</a></li>\n",
    "                </ul>   \n",
    "        </ul>\n",
    "    </li>\n",
    "    <li><a href=\"#analysen\">Analysen</a>\n",
    "        <ul>\n",
    "            <li><a href=\"#ziel-der-analysen\">Ziel der Analysen</a></li>\n",
    "            <li><a href=\"#kmeans\">KMeans</a></li>\n",
    "            <li><a href=\"#hierarchisch\">Hierarchisch</a></li>\n",
    "        </ul>\n",
    "    </li>\n",
    "    <li><a href=\"#Auswertung\">Auswertung</a>\n",
    "</ol>"
   ]
  },
  {
   "cell_type": "markdown",
   "metadata": {},
   "source": [
    "<h1 id=einletung>Einleitung</h1>\n",
    "\n",
    "text go brr"
   ]
  },
  {
   "cell_type": "code",
   "execution_count": null,
   "metadata": {},
   "outputs": [],
   "source": []
  },
  {
   "cell_type": "code",
   "execution_count": null,
   "metadata": {},
   "outputs": [],
   "source": []
  },
  {
   "cell_type": "markdown",
   "metadata": {},
   "source": [
    "<h1 id=analysen>Analysen</h1>\n",
    "iugaciugwbuin"
   ]
  }
 ],
 "metadata": {
  "kernelspec": {
   "display_name": "Python 3",
   "language": "python",
   "name": "python3"
  },
  "language_info": {
   "codemirror_mode": {
    "name": "ipython",
    "version": 3
   },
   "file_extension": ".py",
   "mimetype": "text/x-python",
   "name": "python",
   "nbconvert_exporter": "python",
   "pygments_lexer": "ipython3",
   "version": "3.10.8"
  }
 },
 "nbformat": 4,
 "nbformat_minor": 2
}
